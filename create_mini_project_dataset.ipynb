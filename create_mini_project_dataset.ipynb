{
 "cells": [
  {
   "cell_type": "code",
   "execution_count": 2,
   "id": "0d03be70",
   "metadata": {},
   "outputs": [],
   "source": [
    "import os\n",
    "import cv2\n",
    "import numpy as np\n",
    "import matplotlib.pyplot as plt\n",
    "import matplotlib\n",
    "from matplotlib import pyplot as plt\n",
    "\n",
    "from sklearn.preprocessing import StandardScaler\n",
    "from sklearn.svm import LinearSVC\n",
    "from sklearn.pipeline import Pipeline\n",
    "from sklearn.svm import SVC\n",
    "from PIL import Image"
   ]
  },
  {
   "cell_type": "code",
   "execution_count": 3,
   "id": "a0b3245d",
   "metadata": {},
   "outputs": [],
   "source": [
    "videos_path = \"dataset/Videos\"\n",
    "segmentations_path = \"dataset/InstanceSegmentation\""
   ]
  },
  {
   "cell_type": "code",
   "execution_count": 4,
   "id": "9b4adf58",
   "metadata": {},
   "outputs": [
    {
     "name": "stdout",
     "output_type": "stream",
     "text": [
      "video number 0\n"
     ]
    }
   ],
   "source": [
    "if not os.path.exists('mini_project_dataset/person_in_water'):\n",
    "    os.makedirs('mini_project_dataset/person_in_water')\n",
    "    \n",
    "if not os.path.exists('mini_project_dataset/no_person_in_water'):\n",
    "    os.makedirs('mini_project_dataset/no_person_in_water')\n",
    "\n",
    "path, dirs, files = next(os.walk(videos_path))\n",
    "file_count = len(files)\n",
    "\n",
    "# define polygon points\n",
    "points = np.array( [[[115, 288], [50,100], [0,100], [0,288]]], dtype=np.int32 )\n",
    "\n",
    "images = []\n",
    "masks = []\n",
    "\n",
    "for video_number in range(file_count-1):\n",
    "    video_path = videos_path + \"/video_{}.mp4\".format(video_number)\n",
    "    segmentation_path = segmentations_path + \"/segmentation_{}.mp4\".format(video_number)\n",
    "    \n",
    "    video_cap = cv2.VideoCapture(video_path)\n",
    "    segmentation_cap = cv2.VideoCapture(segmentation_path)\n",
    "    \n",
    "    frame_count = int(video_cap.get(cv2.CAP_PROP_FRAME_COUNT))\n",
    "    \n",
    "    if video_number%100 == 0:\n",
    "        print(\"video number {}\".format(video_number))\n",
    "    \n",
    "    frames = []\n",
    "    for frame in range(0, frame_count, int(frame_count/2)):\n",
    "        video_ret, video_frame = video_cap.read()\n",
    "        segmentation_ret, segmentation_frame = segmentation_cap.read()\n",
    "        \n",
    "        video_gray = cv2.cvtColor(video_frame, cv2.COLOR_BGR2GRAY)\n",
    "        segmentation_gray = cv2.cvtColor(segmentation_frame, cv2.COLOR_BGR2GRAY)\n",
    "\n",
    "        video_poly = video_gray.copy()\n",
    "        cv2.polylines(video_poly, [points], True, (0,0,255), 1)\n",
    "\n",
    "        mask = np.zeros_like(video_gray)\n",
    "        cv2.fillPoly(mask, [points], (1))\n",
    "        \n",
    "        image = video_gray * mask\n",
    "        image = image[100:,:115]\n",
    "        frames.append(image)\n",
    "        \n",
    "    segmentation_values = segmentation_gray[np.where(mask == 1)]\n",
    "    \n",
    "    person_in_water = sum(segmentation_values/255) > 15\n",
    "    \n",
    "    try:\n",
    "        rgb = np.dstack((frames[0], frames[1], frames[2]))\n",
    "        rgb = rgb.astype(np.uint8)\n",
    "\n",
    "        if person_in_water:\n",
    "            matplotlib.image.imsave('mini_project_dataset/person_in_water/image_{}.png'.format(video_number), rgb)\n",
    "        else:\n",
    "            matplotlib.image.imsave('mini_project_dataset/no_person_in_water/image_{}.png'.format(video_number), rgb)\n",
    "    except:\n",
    "        print(\"fuuuuuck\")"
   ]
  },
  {
   "cell_type": "code",
   "execution_count": null,
   "id": "ff64ba68",
   "metadata": {},
   "outputs": [],
   "source": []
  },
  {
   "cell_type": "code",
   "execution_count": null,
   "id": "16f2a8a8",
   "metadata": {},
   "outputs": [],
   "source": []
  },
  {
   "cell_type": "code",
   "execution_count": null,
   "id": "db77198b",
   "metadata": {},
   "outputs": [],
   "source": []
  },
  {
   "cell_type": "code",
   "execution_count": null,
   "id": "bbfd7150",
   "metadata": {},
   "outputs": [],
   "source": []
  },
  {
   "cell_type": "code",
   "execution_count": null,
   "id": "6a098edb",
   "metadata": {},
   "outputs": [],
   "source": []
  }
 ],
 "metadata": {
  "kernelspec": {
   "display_name": "Python 3",
   "language": "python",
   "name": "python3"
  },
  "language_info": {
   "codemirror_mode": {
    "name": "ipython",
    "version": 3
   },
   "file_extension": ".py",
   "mimetype": "text/x-python",
   "name": "python",
   "nbconvert_exporter": "python",
   "pygments_lexer": "ipython3",
   "version": "3.8.11"
  }
 },
 "nbformat": 4,
 "nbformat_minor": 5
}
