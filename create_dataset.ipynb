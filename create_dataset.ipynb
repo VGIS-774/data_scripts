{
 "cells": [
  {
   "cell_type": "code",
   "execution_count": 1,
   "id": "b79c04c6",
   "metadata": {},
   "outputs": [],
   "source": [
    "import os, os.path\n",
    "import random\n",
    "import cv2\n",
    "import numpy as np\n",
    "import matplotlib.pyplot as plt\n",
    "from matplotlib.pyplot import figure\n",
    "from PIL import Image, ImageDraw, ImageOps"
   ]
  },
  {
   "cell_type": "code",
   "execution_count": 2,
   "id": "60d030ea",
   "metadata": {},
   "outputs": [],
   "source": [
    "data_folder = \"a836e596-d0dd-4eb3-92c6-fddb6c338fb4.nosync/\"\n",
    "RGB_image_path = data_folder + \"RGBcf17cfc3-1002-4f38-9824-d3615a73a1cc/\"\n",
    "instance_segmentation_path = data_folder + \"InstanceSegmentationc6cef299-4a0f-4d7b-b19c-202699af2eb8/\"\n",
    "backgrounds_videos = \"background_videos/\"\n",
    "\n",
    "blur = 3\n",
    "frame_number = 19\n",
    "size = 288, 384\n",
    "fps = 30"
   ]
  },
  {
   "cell_type": "code",
   "execution_count": null,
   "id": "fc4e831c",
   "metadata": {},
   "outputs": [
    {
     "name": "stdout",
     "output_type": "stream",
     "text": [
      "5.2631578947368425\n",
      "10.526315789473685\n",
      "15.789473684210526\n",
      "21.05263157894737\n",
      "26.31578947368421\n",
      "31.57894736842105\n",
      "36.8421052631579\n",
      "42.10526315789474\n"
     ]
    }
   ],
   "source": [
    "if not os.path.exists('dataset/Videos'):\n",
    "    os.makedirs('dataset/Videos')\n",
    "    \n",
    "if not os.path.exists('dataset/InstanceSegmentation'):\n",
    "    os.makedirs('dataset/InstanceSegmentation')\n",
    "\n",
    "path, dirs, files = next(os.walk(RGB_image_path))\n",
    "file_count = len(files)\n",
    "\n",
    "path, dirs, files = next(os.walk(backgrounds_videos))\n",
    "\n",
    "final_images = []\n",
    "final_segmentations = []\n",
    "\n",
    "video_count = 0\n",
    "i = 1\n",
    "background_video = cv2.VideoCapture(backgrounds_videos + random.choice(files))\n",
    "for count in range(2, file_count+2):\n",
    "    if count%100 == 0:\n",
    "        print(count/frame_number)\n",
    "    try:\n",
    "        rgb_image = cv2.imread(RGB_image_path + \"rgb_{}.png\".format(count))\n",
    "        segmentation_image = cv2.imread(instance_segmentation_path + \"Instance_{}.png\".format(count))\n",
    "\n",
    "        ret, background_image = background_video.read()\n",
    "        background_image = cv2.cvtColor(background_image, cv2.COLOR_BGR2GRAY)\n",
    "\n",
    "        subtract = int((rgb_image.shape[1] - ((background_image.shape[1]/background_image.shape[0])*rgb_image.shape[0]))/2)\n",
    "\n",
    "        u = np.array([0, 0, 0])\n",
    "        l = np.array([0, 0, 0])\n",
    "\n",
    "        mask = cv2.inRange(segmentation_image, l, u)\n",
    "        mask = cv2.blur(mask, (blur, blur)) # Maybe change to use guarsian filter\n",
    "        if subtract != 0:\n",
    "            mask = mask[:,subtract:-subtract]\n",
    "        mask = cv2.resize(mask, (384, 288))\n",
    "\n",
    "        rgb_image = cv2.blur(rgb_image, (blur, blur)) # Maybe change to use guarsian filter\n",
    "        if subtract != 0:\n",
    "            rgb_image = rgb_image[:,subtract:-subtract]\n",
    "        rgb_image = cv2.resize(rgb_image, (384, 288))\n",
    "\n",
    "        final = np.array(background_image * (mask/255) + cv2.cvtColor(rgb_image, cv2.COLOR_BGR2GRAY) * (np.ones((288, 384)) - (mask/255)), dtype='uint8')\n",
    "\n",
    "        if subtract != 0:\n",
    "            final_segmentation_image = segmentation_image[:,subtract:-subtract]\n",
    "        else:\n",
    "            final_segmentation_image = segmentation_image\n",
    "        final_segmentation_image = cv2.resize(final_segmentation_image, (384, 288))\n",
    "\n",
    "        final_images.append(final)\n",
    "        final_segmentations.append(final_segmentation_image)\n",
    "\n",
    "        i += 1\n",
    "\n",
    "        if (count-1) % frame_number == 0:\n",
    "            background_video = cv2.VideoCapture(backgrounds_videos + random.choice(files))\n",
    "\n",
    "            out = cv2.VideoWriter('dataset/Videos/video_{}.mp4'.format(video_count), cv2.VideoWriter_fourcc(*'mp4v'), fps, (size[1], size[0]), False)\n",
    "            for frame in final_images:\n",
    "                out.write(frame)\n",
    "            out.release()\n",
    "\n",
    "            out = cv2.VideoWriter('dataset/InstanceSegmentation/segmentation_{}.mp4'.format(video_count), cv2.VideoWriter_fourcc(*'mp4v'), fps, (size[1], size[0]), True)\n",
    "            for frame in final_segmentations:\n",
    "                out.write(frame)\n",
    "            out.release()\n",
    "\n",
    "            final_images = []\n",
    "            final_segmentations = []\n",
    "\n",
    "            video_count += 1\n",
    "    except:\n",
    "        background_video = cv2.VideoCapture(backgrounds_videos + random.choice(files))\n",
    "        print(\"fucking shit fuck error: {} {}\".format(count))"
   ]
  },
  {
   "cell_type": "code",
   "execution_count": null,
   "id": "c21a1a4d",
   "metadata": {},
   "outputs": [],
   "source": []
  },
  {
   "cell_type": "code",
   "execution_count": null,
   "id": "1fb54620",
   "metadata": {},
   "outputs": [],
   "source": []
  },
  {
   "cell_type": "code",
   "execution_count": null,
   "id": "8b364e3c",
   "metadata": {},
   "outputs": [],
   "source": []
  },
  {
   "cell_type": "code",
   "execution_count": null,
   "id": "092b93e3",
   "metadata": {},
   "outputs": [],
   "source": []
  },
  {
   "cell_type": "code",
   "execution_count": null,
   "id": "dc8ba31d",
   "metadata": {},
   "outputs": [],
   "source": []
  }
 ],
 "metadata": {
  "kernelspec": {
   "display_name": "Python 3",
   "language": "python",
   "name": "python3"
  },
  "language_info": {
   "codemirror_mode": {
    "name": "ipython",
    "version": 3
   },
   "file_extension": ".py",
   "mimetype": "text/x-python",
   "name": "python",
   "nbconvert_exporter": "python",
   "pygments_lexer": "ipython3",
   "version": "3.8.11"
  }
 },
 "nbformat": 4,
 "nbformat_minor": 5
}
